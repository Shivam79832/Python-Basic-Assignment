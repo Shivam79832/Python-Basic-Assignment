{
  "nbformat": 4,
  "nbformat_minor": 0,
  "metadata": {
    "colab": {
      "provenance": []
    },
    "kernelspec": {
      "name": "python3",
      "display_name": "Python 3"
    },
    "language_info": {
      "name": "python"
    }
  },
  "cells": [
    {
      "cell_type": "markdown",
      "source": [
        "# **Python Basics Questions**"
      ],
      "metadata": {
        "id": "tTa5JI2fj55q"
      }
    },
    {
      "cell_type": "markdown",
      "source": [
        "1. What is Python, and why is it popular?\n",
        "  -   Python language is easy to understand and huge library in this programming language over 137,000 also this laguage is interpreated language.\n"
      ],
      "metadata": {
        "id": "y9tDpvLEmxBB"
      }
    },
    {
      "cell_type": "markdown",
      "source": [
        "2. What is an interpreter in Python?\n",
        "  - Python is interpreated high level language where interpreated languages are different because the code is not compiled. first hand instead a copy is given to another machine and that machine interprets it and example java script **code-----> Run code**\n"
      ],
      "metadata": {
        "id": "wckQ0dpZpCgE"
      }
    },
    {
      "cell_type": "markdown",
      "source": [
        "3. What are pre-defined keywords in Python ?\n",
        "    - pre_defined keywords are the keywords that is already pre-defined where i can see the pre-defined keywords by the import keyword\n",
        "print(keyword.kwlist)"
      ],
      "metadata": {
        "id": "OoEU_lWCpfTC"
      }
    },
    {
      "cell_type": "markdown",
      "source": [
        "4. Can keywords be used as variable names ?\n",
        "  - According to me **No** because they are really reserve words that actually isn't used in the form of variables.\n"
      ],
      "metadata": {
        "id": "1fME3qFprZCf"
      }
    },
    {
      "cell_type": "markdown",
      "source": [
        "5.  What is mutability in Python ?\n",
        "-   The property of data objects can be modified or not in the same memory location where they are stored is called mutability."
      ],
      "metadata": {
        "id": "Yu4tRwxRsP2k"
      }
    },
    {
      "cell_type": "markdown",
      "source": [
        "6. Why are lists mutable, but tuples are immutable ?\n",
        "  -   List is mutable because the memory location has not changes as the id remain same befor and after the variable is modified that indicates that list is mutable and tuple are immutable."
      ],
      "metadata": {
        "id": "mugTs50bs9wh"
      }
    },
    {
      "cell_type": "markdown",
      "source": [
        "7. What is the difference between “==” and “is” operators in Python ?\n",
        "\n",
        "  -  **==** is equal to comparision operator where \"is\" identity operator\n",
        "    - Where comparision operator is used to perform comparision value ==\n",
        "    for example---> a=4,b=15\n",
        "    if(a<b):\n",
        "    print(\"a is less then b\")\n",
        "    if (a==b):\n",
        "    print(\"a is equal to the b\")\n",
        "    else:\n",
        "    (\"b is greater then a\")\n",
        "\n",
        "\n",
        "    - Where identity operator in python are used to determine whether a value of a certain class or type for ex---> We can use the identity operators with built in function type()  \n",
        "    x=5\n",
        "    if (type(x) is int):\n",
        "    print(\"correct\")\n",
        "    else:\n",
        "    print(\"incorrect\")\n",
        "     "
      ],
      "metadata": {
        "id": "eZOljCWhtt1Q"
      }
    },
    {
      "cell_type": "markdown",
      "source": [
        "8. What are logical operators in Python ?\n",
        "-   logical operator are used to do perform logical operation there are three types of logical operator (Logical(and, or , not ))\n",
        "\n",
        "- where logical and it checks all the conditions associated with & return true if and only if all the condition are \"true\", Any one false condition makes it \"false\"        \n",
        "                                    and\n",
        "                  for example---> 1     1 -----1\n",
        "                                  1     0 -----0\n",
        "                                  0     1 -----0\n",
        "                                  0     0 -----0\n",
        "\n",
        "- Or  (logical or)\n",
        "                  True if at least one is true\n",
        "                                     or\n",
        "                  for example---> 1     1 -----1\n",
        "                                  1     0 -----1\n",
        "                                  0     1 -----1\n",
        "                                  0     0 -----0\n",
        "\n",
        "- not  (logical not)\n",
        "                    Operation is used to reverse the output of logical condition.\"if true then false , if false then true\"\n",
        "\n",
        "                    a=7 b=10\n",
        "                    a>b=False\n",
        "                    not(a>b)= True\n",
        "\n",
        "\n"
      ],
      "metadata": {
        "id": "E6L2XI_ayruE"
      }
    },
    {
      "cell_type": "markdown",
      "source": [
        "(9.--10.) -    What is type casting in Python ?/ What is the difference between implicit and explicit type casting ?\n",
        "-   Type casting or type conversion is in python is the process where we have to do conversion of data types by the two types where 1. implicit casting and 2. explicit casting\n",
        "\n",
        "- Implicit casting-- Where python already knows about the which data types you write on the ide's and understand by itself what the data types is written.\n",
        "-  Explicit casting -- Where according to us we have to change the data types.\n",
        "\n",
        "   - example---> a=\"77.5\"\n",
        "   - b=int(float(a))\n",
        "   - print(type(b),type(a))\n",
        "   - c=float(b)\n",
        "   - type(c)\n",
        "\n",
        "   <class 'int'> <class 'str'> float"
      ],
      "metadata": {
        "id": "Ad3oGn841W-N"
      }
    },
    {
      "cell_type": "markdown",
      "source": [
        "(11.12) What is the purpose of conditional statements in Python? / 8 How does the elif statement work\n",
        "-   conditional statements are be used to perform various statements using the conditions is it is or not is like that (if, if else, if elif else)\n",
        "for example: my_crush = \"is beautiful\"\n",
        "I_ampoor = \"is beautiful\"\n",
        "              if (my_crush == I_ampoor):\n",
        "               print(\"Give me a chance to millioner\")\n",
        "          # Added a condition to the elif statement\n",
        "        elif my_crush != I_ampoor:  \n",
        "        print(\"you want to go and choose other and regreat\")\n",
        "else:\n",
        "      (\" Choose me in my struggle then is will give you all my thing and it deserving it your choice\")\n"
      ],
      "metadata": {
        "id": "Cu-3F1756cu5"
      }
    },
    {
      "cell_type": "markdown",
      "source": [
        "13. What is the difference between for and while loops ?\n",
        "-   where loops are used to create the loops with the help of predefined keywords for and while with the help of break and continue statement\n",
        "-    Python to understand where to use 'for loop' and where to use 'while loop'.\n",
        "\n",
        "\n",
        "For loop is used to iterate over a sequence of items.\n",
        "\n",
        "While loop is used to repeatedly execute a block of statements while a condition is true.\n",
        "\n",
        "For loops are designed for iterating over a sequence of items. Eg. list, tuple, etc.\n",
        "\n",
        "While loop is used when the number of iterations is not known in advance or when we want to repeat a block of code until a certain condition is met.\n",
        "\n"
      ],
      "metadata": {
        "id": "uX8hdDlw-BWf"
      }
    },
    {
      "cell_type": "markdown",
      "source": [
        "14. Describe a scenario where a while loop is more suitable than a for loop.?\n",
        "\n",
        "-    According to me in aestrick pattern"
      ],
      "metadata": {
        "id": "moeqy-RJ_wik"
      }
    },
    {
      "cell_type": "markdown",
      "source": [
        "# **Practical Questions**"
      ],
      "metadata": {
        "id": "l1y-E0-_ATTC"
      }
    },
    {
      "cell_type": "code",
      "source": [
        "#  Write a Python program to print \"Hello, World!\n",
        "print(\"hello,World!\")\n"
      ],
      "metadata": {
        "id": "JJ1NkQZm2gxL",
        "colab": {
          "base_uri": "https://localhost:8080/"
        },
        "outputId": "b623bb40-55a5-4cfe-bc86-e41c0c1e17ef"
      },
      "execution_count": null,
      "outputs": [
        {
          "output_type": "stream",
          "name": "stdout",
          "text": [
            "hello,World!\n"
          ]
        }
      ]
    },
    {
      "cell_type": "markdown",
      "source": [
        "# Write a Python program that displays your name and age"
      ],
      "metadata": {
        "id": "fFuJqrYgZ_i-"
      }
    },
    {
      "cell_type": "code",
      "source": [
        "my_name=\"Shivam\"\n",
        "my_age=20\n",
        "print(f\" My name is {my_name} and my age is {my_age}\")"
      ],
      "metadata": {
        "colab": {
          "base_uri": "https://localhost:8080/"
        },
        "id": "8HwrRHX_aB4S",
        "outputId": "d937fd04-bce2-4c42-94a8-b0ee490d6516"
      },
      "execution_count": null,
      "outputs": [
        {
          "output_type": "stream",
          "name": "stdout",
          "text": [
            " My name is Shivam and my age is 20\n"
          ]
        }
      ]
    },
    {
      "cell_type": "markdown",
      "source": [
        "Write code to print all the pre-defined keywords in Python using the keyword library\n"
      ],
      "metadata": {
        "id": "u3Efi9q_agjO"
      }
    },
    {
      "cell_type": "code",
      "source": [
        "import keyword\n",
        "print(keyword.kwlist)"
      ],
      "metadata": {
        "colab": {
          "base_uri": "https://localhost:8080/"
        },
        "id": "DsjthtIFaQYb",
        "outputId": "38fa1130-ea15-400d-954a-4dcbba6e5545"
      },
      "execution_count": null,
      "outputs": [
        {
          "output_type": "stream",
          "name": "stdout",
          "text": [
            "['False', 'None', 'True', 'and', 'as', 'assert', 'async', 'await', 'break', 'class', 'continue', 'def', 'del', 'elif', 'else', 'except', 'finally', 'for', 'from', 'global', 'if', 'import', 'in', 'is', 'lambda', 'nonlocal', 'not', 'or', 'pass', 'raise', 'return', 'try', 'while', 'with', 'yield']\n"
          ]
        }
      ]
    },
    {
      "cell_type": "markdown",
      "source": [
        "Write a program that checks if a given word is a Python keyword.\n"
      ],
      "metadata": {
        "id": "3j2jlZeqa2s0"
      }
    },
    {
      "cell_type": "code",
      "source": [
        "import keyword\n",
        "word= input(\"Enter a word: \")\n",
        "if keyword.iskeyword(word):\n",
        "  print(f\"{word} is a python keyword.\")\n",
        "else:\n",
        "     print(f\"{word} is not a keyword.\")"
      ],
      "metadata": {
        "id": "MKIGdF0aarzx"
      },
      "execution_count": null,
      "outputs": []
    },
    {
      "cell_type": "markdown",
      "source": [
        " Create a list and tuple in Python, and demonstrate how attempting to change an element works differently for each."
      ],
      "metadata": {
        "id": "qc22bnl0dw_d"
      }
    },
    {
      "cell_type": "code",
      "source": [
        "l=[1,2,3.5, True, False, \"Shivam\"]\n",
        "k=(\"shiva\", 9, 9.2, 2+3j)\n",
        "print(l,k)\n",
        "l[0]=5\n",
        "print(l,k)\n",
        "\n",
        "l[0]=18\n",
        "print(l)"
      ],
      "metadata": {
        "id": "swQk5gX_dBIE"
      },
      "execution_count": null,
      "outputs": []
    },
    {
      "cell_type": "markdown",
      "source": [
        " Write a function to demonstrate the behavior of mutable and immutable arguments"
      ],
      "metadata": {
        "id": "2NwZT4p0fzs4"
      }
    },
    {
      "cell_type": "code",
      "source": [
        "# mutable\n",
        "a=[5,10,15]\n",
        "print(id(a))#137877562862912\n",
        "print(a)\n",
        "a[1]=20\n",
        "print(a)\n",
        "print(id(a))\n",
        "\n",
        "# The id remains same after & before changing the value or object (137877562862912) that's means the id remains same after & before changing a object that's called mutable object"
      ],
      "metadata": {
        "id": "mKXi1qx1eg9f"
      },
      "execution_count": null,
      "outputs": []
    },
    {
      "cell_type": "code",
      "source": [
        "# TypeError: 'tuple' object does not support item assignment\n",
        "# immutable arguments\n",
        "b=(5,10,15)\n",
        "print(id(b))\n",
        "# replace value 10 to 20\n",
        "print(type(b))\n",
        "b[1]\n",
        "b[1]=12\n"
      ],
      "metadata": {
        "id": "qzmnaQNbgBOD"
      },
      "execution_count": null,
      "outputs": []
    },
    {
      "cell_type": "markdown",
      "source": [
        "Write a program that performs basic arithmetic operations on two user-input numbers."
      ],
      "metadata": {
        "id": "EJAh31dxqWCW"
      }
    },
    {
      "cell_type": "code",
      "source": [
        "number1=int(input(\"Enter your number\" ))\n",
        "number2=int(input(\"enter your second number\" ))\n",
        "f=number1\n",
        "h=number2\n",
        "print(f,h)"
      ],
      "metadata": {
        "id": "ZPj0bWEFjgU6"
      },
      "execution_count": null,
      "outputs": []
    },
    {
      "cell_type": "markdown",
      "source": [
        "Write a program to demonstrate the use of logical operators.\n"
      ],
      "metadata": {
        "id": "qcBGx9F1qiu1"
      }
    },
    {
      "cell_type": "code",
      "source": [
        "use_1=6\n",
        "use_2=8\n",
        "if (use_1<use_2) and (use_2>use_1):\n",
        "  print(\" this is demonstrate of the and logical operators where both the value is true then block is executed\")\n",
        "  if (use_1<use_2) or (use_1>=use_2):\n",
        "    print(\"this is demonstrate of the and logical operators where one of the value is true then block is executed\")\n",
        "else:\n",
        "     print(f\"(use_2!=use_1) is not equal to the{use_1},{use_2} \")\n",
        "\n",
        "\n"
      ],
      "metadata": {
        "colab": {
          "base_uri": "https://localhost:8080/"
        },
        "id": "grVqs3pbqeZ6",
        "outputId": "6e507780-b37f-4077-98f6-e394322822e0"
      },
      "execution_count": 15,
      "outputs": [
        {
          "output_type": "stream",
          "name": "stdout",
          "text": [
            " this is demonstrate of the and logical operators where both the value is true then block is executed\n",
            "this is demonstrate of the and logical operators where one of the value is true then block is executed\n"
          ]
        }
      ]
    },
    {
      "cell_type": "markdown",
      "source": [
        "Write a Python program to convert user input from string to integer, float, and boolean types."
      ],
      "metadata": {
        "id": "gTf0y56QuVyN"
      }
    },
    {
      "cell_type": "code",
      "source": [
        "variable1=input(\"enter your input\" )\n",
        "variable2=input(\"enter your input\" )\n",
        "print(type(variable1),(variable2))\n",
        "while variable1\n"
      ],
      "metadata": {
        "colab": {
          "base_uri": "https://localhost:8080/"
        },
        "id": "T6aO2sa7q6Hh",
        "outputId": "95e4af32-29bc-403e-8161-1b67ae577ea8"
      },
      "execution_count": 19,
      "outputs": [
        {
          "output_type": "stream",
          "name": "stdout",
          "text": [
            "<class 'str'> Verma\n"
          ]
        }
      ]
    },
    {
      "cell_type": "markdown",
      "source": [
        "Write code to demonstrate type casting with list elements."
      ],
      "metadata": {
        "id": "0q4b0sbuv2Ko"
      }
    },
    {
      "cell_type": "code",
      "source": [
        "demo_list= [5+3j, True , False , \"hyper\", 45, 69.77]\n",
        "type(demo_list)\n",
        "tuple(demo_list)\n",
        "str(demo_list)\n",
        "list(demo_list)"
      ],
      "metadata": {
        "colab": {
          "base_uri": "https://localhost:8080/"
        },
        "id": "9TpBWg7yvCad",
        "outputId": "85b44390-43be-4b84-e97b-1de010a465bc"
      },
      "execution_count": 25,
      "outputs": [
        {
          "output_type": "execute_result",
          "data": {
            "text/plain": [
              "[(5+3j), True, False, 'hyper', 45, 69.77]"
            ]
          },
          "metadata": {},
          "execution_count": 25
        }
      ]
    },
    {
      "cell_type": "markdown",
      "source": [
        "*Write* a program that checks if a **number** is positive, negative, or zero."
      ],
      "metadata": {
        "id": "KT0okBnsxMsc"
      }
    },
    {
      "cell_type": "code",
      "source": [
        "number = float(input(\"Enter a number: \"))\n",
        "\n",
        "if number > 0:\n",
        "    print(\"Positive number\")\n",
        "elif number == 0:\n",
        "    print(\"Zero\")\n",
        "else:\n",
        "    print(\"Negative number\")"
      ],
      "metadata": {
        "colab": {
          "base_uri": "https://localhost:8080/"
        },
        "id": "KxSDbjGRy4es",
        "outputId": "63a4ec62-a2cc-449a-dba9-448ed2c46a0b"
      },
      "execution_count": 28,
      "outputs": [
        {
          "output_type": "stream",
          "name": "stdout",
          "text": [
            "Enter a number: 54\n",
            "Positive number\n"
          ]
        }
      ]
    },
    {
      "cell_type": "markdown",
      "source": [
        "12. Write a for loop to print numbers from 1 to 10."
      ],
      "metadata": {
        "id": "LhLOm5aozk3C"
      }
    },
    {
      "cell_type": "code",
      "source": [
        "i=1\n",
        "j=11\n",
        "for i in range(1,11):\n",
        "  print(i)"
      ],
      "metadata": {
        "colab": {
          "base_uri": "https://localhost:8080/"
        },
        "id": "YcXwSc7Bze_a",
        "outputId": "b7917570-1570-46a8-fc22-4927345ba09c"
      },
      "execution_count": 38,
      "outputs": [
        {
          "output_type": "stream",
          "name": "stdout",
          "text": [
            "1\n",
            "2\n",
            "3\n",
            "4\n",
            "5\n",
            "6\n",
            "7\n",
            "8\n",
            "9\n",
            "10\n"
          ]
        }
      ]
    },
    {
      "cell_type": "markdown",
      "source": [
        "13. Write a Python program to find the sum of all even numbers between 1 and 50."
      ],
      "metadata": {
        "id": "x-L3RPgU0hec"
      }
    },
    {
      "cell_type": "code",
      "source": [
        "sum_of_evens = 0\n",
        "for i in range(2, 51, 2):\n",
        "    sum_of_evens += i\n",
        "\n",
        "print(f\"The sum of all even numbers between 1 and 50 is: {sum_of_evens}\")"
      ],
      "metadata": {
        "colab": {
          "base_uri": "https://localhost:8080/"
        },
        "id": "0U6Fw0-90s3W",
        "outputId": "0535346f-00e4-4b64-f548-d8559032648c"
      },
      "execution_count": 39,
      "outputs": [
        {
          "output_type": "stream",
          "name": "stdout",
          "text": [
            "The sum of all even numbers between 1 and 50 is: 650\n"
          ]
        }
      ]
    },
    {
      "cell_type": "markdown",
      "source": [
        "14. Write a program to reverse a string using a while loop.\n"
      ],
      "metadata": {
        "id": "3PmEO65i0zhb"
      }
    },
    {
      "cell_type": "code",
      "source": [
        "reverse_string= \"pwskills\"\n",
        "while reverse_string:\n",
        "  print(reverse_string[-1])\n",
        "  reverse_string=reverse_string[:-1]\n"
      ],
      "metadata": {
        "colab": {
          "base_uri": "https://localhost:8080/"
        },
        "id": "tI10_BKp0toX",
        "outputId": "ccd18d1a-36f2-4506-fd35-fbf3b68bae85"
      },
      "execution_count": 40,
      "outputs": [
        {
          "output_type": "stream",
          "name": "stdout",
          "text": [
            "s\n",
            "l\n",
            "l\n",
            "i\n",
            "k\n",
            "s\n",
            "w\n",
            "p\n"
          ]
        }
      ]
    },
    {
      "cell_type": "markdown",
      "source": [
        "15. Write a Python program to calculate the factorial of a number provided by the user using a while loop."
      ],
      "metadata": {
        "id": "wz4ocjQc1Mfi"
      }
    },
    {
      "cell_type": "code",
      "source": [
        "num = int(input(\"Enter a number: \"))\n",
        "\n",
        "factorial = 1\n",
        "i = 1\n",
        "\n",
        "while i <= num:\n",
        "    factorial *= i\n",
        "    i += 1\n",
        "\n",
        "print(f\"The factorial of {num} is {factorial}\")\n"
      ],
      "metadata": {
        "colab": {
          "base_uri": "https://localhost:8080/"
        },
        "id": "9HijXDFa1WZN",
        "outputId": "98030241-dfc7-491f-8471-67626fba8a21"
      },
      "execution_count": 41,
      "outputs": [
        {
          "output_type": "stream",
          "name": "stdout",
          "text": [
            "Enter a number: 145\n",
            "The factorial of 145 is 804792605747199194484902925779806277109997439007500616344745281047115412373646521410850481879839649227439298230298915019813108221651663659572441609408556917739149315905992811411866635786075524601835815642793302504243200000000000000000000000000000000000\n"
          ]
        }
      ]
    },
    {
      "cell_type": "code",
      "source": [],
      "metadata": {
        "id": "1UDfX2SX1W7V"
      },
      "execution_count": null,
      "outputs": []
    }
  ]
}